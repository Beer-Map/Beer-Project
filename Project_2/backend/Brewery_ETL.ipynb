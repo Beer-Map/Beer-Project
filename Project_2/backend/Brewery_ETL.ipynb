{
 "cells": [
  {
   "cell_type": "code",
   "execution_count": 1,
   "metadata": {},
   "outputs": [],
   "source": [
    "import pandas as pd\n",
    "from sqlalchemy import create_engine\n",
    "from key_pg import key"
   ]
  },
  {
   "cell_type": "code",
   "execution_count": 2,
   "metadata": {},
   "outputs": [
    {
     "data": {
      "text/plain": [
       "Index(['address', 'categories', 'city', 'country', 'key', 'lat', 'long',\n",
       "       'name', 'phones', 'postalCode', 'province', 'websites'],\n",
       "      dtype='object')"
      ]
     },
     "execution_count": 2,
     "metadata": {},
     "output_type": "execute_result"
    }
   ],
   "source": [
    "brewery_file = \"./Resources/brewery.csv\"\n",
    "brewery_df = pd.read_csv(brewery_file)\n",
    "brewery_df.columns"
   ]
  },
  {
   "cell_type": "code",
   "execution_count": 3,
   "metadata": {},
   "outputs": [
    {
     "data": {
      "text/html": [
       "<div>\n",
       "<style scoped>\n",
       "    .dataframe tbody tr th:only-of-type {\n",
       "        vertical-align: middle;\n",
       "    }\n",
       "\n",
       "    .dataframe tbody tr th {\n",
       "        vertical-align: top;\n",
       "    }\n",
       "\n",
       "    .dataframe thead th {\n",
       "        text-align: right;\n",
       "    }\n",
       "</style>\n",
       "<table border=\"1\" class=\"dataframe\">\n",
       "  <thead>\n",
       "    <tr style=\"text-align: right;\">\n",
       "      <th></th>\n",
       "      <th>address</th>\n",
       "      <th>city</th>\n",
       "      <th>lat</th>\n",
       "      <th>long</th>\n",
       "      <th>name</th>\n",
       "      <th>province</th>\n",
       "    </tr>\n",
       "  </thead>\n",
       "  <tbody>\n",
       "    <tr>\n",
       "      <th>2</th>\n",
       "      <td>830 W Bannock St</td>\n",
       "      <td>Boise</td>\n",
       "      <td>43.617711</td>\n",
       "      <td>-116.202883</td>\n",
       "      <td>10 Barrel Brewing, 10 Barrel Brewing Co.</td>\n",
       "      <td>ID</td>\n",
       "    </tr>\n",
       "    <tr>\n",
       "      <th>3</th>\n",
       "      <td>1022 Texan Trl</td>\n",
       "      <td>Grapevine</td>\n",
       "      <td>32.938385</td>\n",
       "      <td>-97.064340</td>\n",
       "      <td>10 Gallon Tours</td>\n",
       "      <td>TX</td>\n",
       "    </tr>\n",
       "    <tr>\n",
       "      <th>10</th>\n",
       "      <td>3090 Shirley Dr</td>\n",
       "      <td>Jackson</td>\n",
       "      <td>42.286010</td>\n",
       "      <td>-84.431260</td>\n",
       "      <td>127 Brewing</td>\n",
       "      <td>MI</td>\n",
       "    </tr>\n",
       "    <tr>\n",
       "      <th>11</th>\n",
       "      <td>41 Lower Newton St</td>\n",
       "      <td>Stalbans</td>\n",
       "      <td>44.810713</td>\n",
       "      <td>-73.083558</td>\n",
       "      <td>14th Star Brewing Co Llc</td>\n",
       "      <td>VT</td>\n",
       "    </tr>\n",
       "    <tr>\n",
       "      <th>12</th>\n",
       "      <td>133 N Main St</td>\n",
       "      <td>Saint Albans</td>\n",
       "      <td>44.814920</td>\n",
       "      <td>-73.082240</td>\n",
       "      <td>14th Star Brewing Company</td>\n",
       "      <td>VT</td>\n",
       "    </tr>\n",
       "    <tr>\n",
       "      <th>...</th>\n",
       "      <td>...</td>\n",
       "      <td>...</td>\n",
       "      <td>...</td>\n",
       "      <td>...</td>\n",
       "      <td>...</td>\n",
       "      <td>...</td>\n",
       "    </tr>\n",
       "    <tr>\n",
       "      <th>7369</th>\n",
       "      <td>226 Main St</td>\n",
       "      <td>Sandown</td>\n",
       "      <td>42.920555</td>\n",
       "      <td>-71.175256</td>\n",
       "      <td>Zorvino Vineyards</td>\n",
       "      <td>NH</td>\n",
       "    </tr>\n",
       "    <tr>\n",
       "      <th>7370</th>\n",
       "      <td>512 E Main St</td>\n",
       "      <td>Montrose</td>\n",
       "      <td>38.480219</td>\n",
       "      <td>-107.875247</td>\n",
       "      <td>Zulu Brewing Co</td>\n",
       "      <td>CO</td>\n",
       "    </tr>\n",
       "    <tr>\n",
       "      <th>7371</th>\n",
       "      <td>3232 Monroe Ave</td>\n",
       "      <td>Waukegan</td>\n",
       "      <td>42.363495</td>\n",
       "      <td>-87.880620</td>\n",
       "      <td>Zumbier</td>\n",
       "      <td>IL</td>\n",
       "    </tr>\n",
       "    <tr>\n",
       "      <th>7372</th>\n",
       "      <td>1038 Lafayette Ave</td>\n",
       "      <td>Columbus</td>\n",
       "      <td>39.208796</td>\n",
       "      <td>-85.918737</td>\n",
       "      <td>Zwanzigz Pizza</td>\n",
       "      <td>IN</td>\n",
       "    </tr>\n",
       "    <tr>\n",
       "      <th>7374</th>\n",
       "      <td>1361 Monmouth Rd</td>\n",
       "      <td>Eastampton</td>\n",
       "      <td>40.010995</td>\n",
       "      <td>-74.750851</td>\n",
       "      <td>Zymotic Imports Limited</td>\n",
       "      <td>NJ</td>\n",
       "    </tr>\n",
       "  </tbody>\n",
       "</table>\n",
       "<p>5416 rows × 6 columns</p>\n",
       "</div>"
      ],
      "text/plain": [
       "                 address          city        lat        long  \\\n",
       "2       830 W Bannock St         Boise  43.617711 -116.202883   \n",
       "3         1022 Texan Trl     Grapevine  32.938385  -97.064340   \n",
       "10       3090 Shirley Dr       Jackson  42.286010  -84.431260   \n",
       "11    41 Lower Newton St      Stalbans  44.810713  -73.083558   \n",
       "12         133 N Main St  Saint Albans  44.814920  -73.082240   \n",
       "...                  ...           ...        ...         ...   \n",
       "7369         226 Main St       Sandown  42.920555  -71.175256   \n",
       "7370       512 E Main St      Montrose  38.480219 -107.875247   \n",
       "7371     3232 Monroe Ave      Waukegan  42.363495  -87.880620   \n",
       "7372  1038 Lafayette Ave      Columbus  39.208796  -85.918737   \n",
       "7374    1361 Monmouth Rd    Eastampton  40.010995  -74.750851   \n",
       "\n",
       "                                          name province  \n",
       "2     10 Barrel Brewing, 10 Barrel Brewing Co.       ID  \n",
       "3                              10 Gallon Tours       TX  \n",
       "10                                 127 Brewing       MI  \n",
       "11                    14th Star Brewing Co Llc       VT  \n",
       "12                   14th Star Brewing Company       VT  \n",
       "...                                        ...      ...  \n",
       "7369                         Zorvino Vineyards       NH  \n",
       "7370                           Zulu Brewing Co       CO  \n",
       "7371                                   Zumbier       IL  \n",
       "7372                            Zwanzigz Pizza       IN  \n",
       "7374                   Zymotic Imports Limited       NJ  \n",
       "\n",
       "[5416 rows x 6 columns]"
      ]
     },
     "execution_count": 3,
     "metadata": {},
     "output_type": "execute_result"
    }
   ],
   "source": [
    "beer_df=brewery_df[['address','city','lat','long','name','province','websites','phones']].copy()\n",
    "new_beer_df=beer_df[beer_df['lat'].notna()]\n",
    "new_beer_df=beer_df[beer_df['long'].notna()]\n",
    "new_beer_df=new_beer_df[['address','city','lat','long','name','province']]\n",
    "new_beer_df.dropna\n",
    "\n",
    "new_beer_df"
   ]
  },
  {
   "cell_type": "code",
   "execution_count": 21,
   "metadata": {},
   "outputs": [],
   "source": [
    "new_beer_df.to_csv('beer_data.csv', index=False)"
   ]
  },
  {
   "cell_type": "code",
   "execution_count": 4,
   "metadata": {},
   "outputs": [],
   "source": [
    "beer_df=brewery_df[['address','city','lat','long','name','province']].copy()\n",
    "beer_df=beer_df[beer_df['lat'].notna()]\n",
    "beer_df=beer_df[beer_df['long'].notna()]\n",
    "\n",
    "beer_df.to_csv('cleaned_data.csv', index=False)"
   ]
  },
  {
   "cell_type": "code",
   "execution_count": 5,
   "metadata": {},
   "outputs": [],
   "source": [
    "rds_connection_string = (f\"postgres:{key}@localhost:5432/Project_2\")\n",
    "engine = create_engine(f'postgresql://{rds_connection_string}')"
   ]
  },
  {
   "cell_type": "code",
   "execution_count": 6,
   "metadata": {},
   "outputs": [
    {
     "data": {
      "text/plain": [
       "['brewery', 'beer']"
      ]
     },
     "execution_count": 6,
     "metadata": {},
     "output_type": "execute_result"
    }
   ],
   "source": [
    "engine.table_names()"
   ]
  },
  {
   "cell_type": "code",
   "execution_count": 7,
   "metadata": {},
   "outputs": [],
   "source": [
    "beer_df.to_sql(name='beer', con=engine, if_exists='append', index=False)"
   ]
  },
  {
   "cell_type": "code",
   "execution_count": 8,
   "metadata": {},
   "outputs": [
    {
     "data": {
      "text/html": [
       "<div>\n",
       "<style scoped>\n",
       "    .dataframe tbody tr th:only-of-type {\n",
       "        vertical-align: middle;\n",
       "    }\n",
       "\n",
       "    .dataframe tbody tr th {\n",
       "        vertical-align: top;\n",
       "    }\n",
       "\n",
       "    .dataframe thead th {\n",
       "        text-align: right;\n",
       "    }\n",
       "</style>\n",
       "<table border=\"1\" class=\"dataframe\">\n",
       "  <thead>\n",
       "    <tr style=\"text-align: right;\">\n",
       "      <th></th>\n",
       "      <th>lat</th>\n",
       "      <th>long</th>\n",
       "      <th>province</th>\n",
       "    </tr>\n",
       "  </thead>\n",
       "  <tbody>\n",
       "    <tr>\n",
       "      <th>0</th>\n",
       "      <td>43.617711</td>\n",
       "      <td>-116.202883</td>\n",
       "      <td>ID</td>\n",
       "    </tr>\n",
       "    <tr>\n",
       "      <th>1</th>\n",
       "      <td>32.938385</td>\n",
       "      <td>-97.064340</td>\n",
       "      <td>TX</td>\n",
       "    </tr>\n",
       "    <tr>\n",
       "      <th>2</th>\n",
       "      <td>42.286010</td>\n",
       "      <td>-84.431260</td>\n",
       "      <td>MI</td>\n",
       "    </tr>\n",
       "    <tr>\n",
       "      <th>3</th>\n",
       "      <td>44.810713</td>\n",
       "      <td>-73.083558</td>\n",
       "      <td>VT</td>\n",
       "    </tr>\n",
       "    <tr>\n",
       "      <th>4</th>\n",
       "      <td>44.814920</td>\n",
       "      <td>-73.082240</td>\n",
       "      <td>VT</td>\n",
       "    </tr>\n",
       "  </tbody>\n",
       "</table>\n",
       "</div>"
      ],
      "text/plain": [
       "         lat        long province\n",
       "0  43.617711 -116.202883       ID\n",
       "1  32.938385  -97.064340       TX\n",
       "2  42.286010  -84.431260       MI\n",
       "3  44.810713  -73.083558       VT\n",
       "4  44.814920  -73.082240       VT"
      ]
     },
     "execution_count": 8,
     "metadata": {},
     "output_type": "execute_result"
    }
   ],
   "source": [
    "pd.read_sql_query('select lat, long, province from beer', con=engine).head()"
   ]
  },
  {
   "cell_type": "code",
   "execution_count": 9,
   "metadata": {},
   "outputs": [],
   "source": []
  },
  {
   "cell_type": "code",
   "execution_count": 11,
   "metadata": {},
   "outputs": [
    {
     "data": {
      "text/html": [
       "<div>\n",
       "<style scoped>\n",
       "    .dataframe tbody tr th:only-of-type {\n",
       "        vertical-align: middle;\n",
       "    }\n",
       "\n",
       "    .dataframe tbody tr th {\n",
       "        vertical-align: top;\n",
       "    }\n",
       "\n",
       "    .dataframe thead th {\n",
       "        text-align: right;\n",
       "    }\n",
       "</style>\n",
       "<table border=\"1\" class=\"dataframe\">\n",
       "  <thead>\n",
       "    <tr style=\"text-align: right;\">\n",
       "      <th></th>\n",
       "      <th>lat</th>\n",
       "      <th>long</th>\n",
       "    </tr>\n",
       "  </thead>\n",
       "  <tbody>\n",
       "    <tr>\n",
       "      <th>0</th>\n",
       "      <td>43.617711</td>\n",
       "      <td>-116.202883</td>\n",
       "    </tr>\n",
       "    <tr>\n",
       "      <th>1</th>\n",
       "      <td>32.938385</td>\n",
       "      <td>-97.064340</td>\n",
       "    </tr>\n",
       "    <tr>\n",
       "      <th>2</th>\n",
       "      <td>42.286010</td>\n",
       "      <td>-84.431260</td>\n",
       "    </tr>\n",
       "    <tr>\n",
       "      <th>3</th>\n",
       "      <td>44.810713</td>\n",
       "      <td>-73.083558</td>\n",
       "    </tr>\n",
       "    <tr>\n",
       "      <th>4</th>\n",
       "      <td>44.814920</td>\n",
       "      <td>-73.082240</td>\n",
       "    </tr>\n",
       "    <tr>\n",
       "      <th>...</th>\n",
       "      <td>...</td>\n",
       "      <td>...</td>\n",
       "    </tr>\n",
       "    <tr>\n",
       "      <th>5411</th>\n",
       "      <td>42.920555</td>\n",
       "      <td>-71.175256</td>\n",
       "    </tr>\n",
       "    <tr>\n",
       "      <th>5412</th>\n",
       "      <td>38.480219</td>\n",
       "      <td>-107.875247</td>\n",
       "    </tr>\n",
       "    <tr>\n",
       "      <th>5413</th>\n",
       "      <td>42.363495</td>\n",
       "      <td>-87.880620</td>\n",
       "    </tr>\n",
       "    <tr>\n",
       "      <th>5414</th>\n",
       "      <td>39.208796</td>\n",
       "      <td>-85.918737</td>\n",
       "    </tr>\n",
       "    <tr>\n",
       "      <th>5415</th>\n",
       "      <td>40.010995</td>\n",
       "      <td>-74.750851</td>\n",
       "    </tr>\n",
       "  </tbody>\n",
       "</table>\n",
       "<p>5416 rows × 2 columns</p>\n",
       "</div>"
      ],
      "text/plain": [
       "            lat        long\n",
       "0     43.617711 -116.202883\n",
       "1     32.938385  -97.064340\n",
       "2     42.286010  -84.431260\n",
       "3     44.810713  -73.083558\n",
       "4     44.814920  -73.082240\n",
       "...         ...         ...\n",
       "5411  42.920555  -71.175256\n",
       "5412  38.480219 -107.875247\n",
       "5413  42.363495  -87.880620\n",
       "5414  39.208796  -85.918737\n",
       "5415  40.010995  -74.750851\n",
       "\n",
       "[5416 rows x 2 columns]"
      ]
     },
     "execution_count": 11,
     "metadata": {},
     "output_type": "execute_result"
    }
   ],
   "source": [
    "data"
   ]
  },
  {
   "cell_type": "code",
   "execution_count": null,
   "metadata": {},
   "outputs": [],
   "source": []
  },
  {
   "cell_type": "code",
   "execution_count": null,
   "metadata": {},
   "outputs": [],
   "source": [
    "CREATE TABLE brewery(\n",
    "address VARCHAR , \n",
    "city VARCHAR, \n",
    "lat DECIMAL,\n",
    "long DECIMAL,\n",
    "name VARCHAR,\n",
    "province VARCHAR,\n",
    "websites VARCHAR,\n",
    "phones VARCHAR);\n",
    "\n",
    "\n",
    "SELECT * FROM brewery;"
   ]
  },
  {
   "cell_type": "code",
   "execution_count": 1,
   "metadata": {},
   "outputs": [],
   "source": [
    "import sqlalchemy\n",
    "from sqlalchemy.ext.automap import automap_base\n",
    "from sqlalchemy.orm import Session\n",
    "from sqlalchemy import create_engine, inspect"
   ]
  },
  {
   "cell_type": "code",
   "execution_count": 2,
   "metadata": {},
   "outputs": [
    {
     "ename": "NameError",
     "evalue": "name 'new_beer_df' is not defined",
     "output_type": "error",
     "traceback": [
      "\u001b[1;31m---------------------------------------------------------------------------\u001b[0m",
      "\u001b[1;31mNameError\u001b[0m                                 Traceback (most recent call last)",
      "\u001b[1;32m<ipython-input-2-3857d1f07d62>\u001b[0m in \u001b[0;36m<module>\u001b[1;34m\u001b[0m\n\u001b[0;32m      2\u001b[0m \u001b[0mlong\u001b[0m \u001b[1;33m=\u001b[0m \u001b[1;33m[\u001b[0m\u001b[1;33m]\u001b[0m\u001b[1;33m\u001b[0m\u001b[1;33m\u001b[0m\u001b[0m\n\u001b[0;32m      3\u001b[0m \u001b[1;33m\u001b[0m\u001b[0m\n\u001b[1;32m----> 4\u001b[1;33m \u001b[1;32mfor\u001b[0m \u001b[0mi\u001b[0m \u001b[1;32min\u001b[0m \u001b[0mnew_beer_df\u001b[0m\u001b[1;33m:\u001b[0m\u001b[1;33m\u001b[0m\u001b[1;33m\u001b[0m\u001b[0m\n\u001b[0m\u001b[0;32m      5\u001b[0m     \u001b[0mlatitude\u001b[0m \u001b[1;33m=\u001b[0m \u001b[0mnew_beer_df\u001b[0m\u001b[1;33m[\u001b[0m\u001b[0mlat\u001b[0m\u001b[1;33m]\u001b[0m\u001b[1;33m\u001b[0m\u001b[1;33m\u001b[0m\u001b[0m\n\u001b[0;32m      6\u001b[0m     \u001b[0mlat\u001b[0m\u001b[1;33m.\u001b[0m\u001b[0mappend\u001b[0m\u001b[1;33m(\u001b[0m\u001b[0mlatitude\u001b[0m\u001b[1;33m)\u001b[0m\u001b[1;33m\u001b[0m\u001b[1;33m\u001b[0m\u001b[0m\n",
      "\u001b[1;31mNameError\u001b[0m: name 'new_beer_df' is not defined"
     ]
    }
   ],
   "source": [
    "lat =[]\n",
    "long = []\n",
    "\n",
    "for i in new_beer_df:\n",
    "    latitude = new_beer_df[lat]\n",
    "    lat.append(latitude)"
   ]
  },
  {
   "cell_type": "code",
   "execution_count": 4,
   "metadata": {},
   "outputs": [
    {
     "ename": "NameError",
     "evalue": "name 'new_beer_df' is not defined",
     "output_type": "error",
     "traceback": [
      "\u001b[1;31m---------------------------------------------------------------------------\u001b[0m",
      "\u001b[1;31mNameError\u001b[0m                                 Traceback (most recent call last)",
      "\u001b[1;32m<ipython-input-4-77b74fee6440>\u001b[0m in \u001b[0;36m<module>\u001b[1;34m\u001b[0m\n\u001b[1;32m----> 1\u001b[1;33m \u001b[0mnew_beer_df\u001b[0m\u001b[1;33m\u001b[0m\u001b[1;33m\u001b[0m\u001b[0m\n\u001b[0m",
      "\u001b[1;31mNameError\u001b[0m: name 'new_beer_df' is not defined"
     ]
    }
   ],
   "source": [
    "new_beer_df"
   ]
  },
  {
   "cell_type": "code",
   "execution_count": 16,
   "metadata": {},
   "outputs": [
    {
     "name": "stdout",
     "output_type": "stream",
     "text": [
      "Collecting flask-cors\n",
      "  Downloading Flask_Cors-3.0.10-py2.py3-none-any.whl (14 kB)\n",
      "Requirement already satisfied, skipping upgrade: Six in c:\\users\\micha\\anaconda3\\lib\\site-packages (from flask-cors) (1.15.0)\n",
      "Requirement already satisfied, skipping upgrade: Flask>=0.9 in c:\\users\\micha\\anaconda3\\lib\\site-packages (from flask-cors) (1.1.2)\n",
      "Requirement already satisfied, skipping upgrade: Jinja2>=2.10.1 in c:\\users\\micha\\anaconda3\\lib\\site-packages (from Flask>=0.9->flask-cors) (2.11.2)\n",
      "Requirement already satisfied, skipping upgrade: click>=5.1 in c:\\users\\micha\\anaconda3\\lib\\site-packages (from Flask>=0.9->flask-cors) (7.1.2)\n",
      "Note: you may need to restart the kernel to use updated packages.\n",
      "Requirement already satisfied, skipping upgrade: itsdangerous>=0.24 in c:\\users\\micha\\anaconda3\\lib\\site-packages (from Flask>=0.9->flask-cors) (1.1.0)\n",
      "Requirement already satisfied, skipping upgrade: Werkzeug>=0.15 in c:\\users\\micha\\anaconda3\\lib\\site-packages (from Flask>=0.9->flask-cors) (1.0.1)\n",
      "Requirement already satisfied, skipping upgrade: MarkupSafe>=0.23 in c:\\users\\micha\\anaconda3\\lib\\site-packages (from Jinja2>=2.10.1->Flask>=0.9->flask-cors) (1.1.1)\n",
      "Installing collected packages: flask-cors\n",
      "Successfully installed flask-cors-3.0.10\n"
     ]
    }
   ],
   "source": [
    "pip install -U flask-cors"
   ]
  },
  {
   "cell_type": "code",
   "execution_count": null,
   "metadata": {},
   "outputs": [],
   "source": []
  }
 ],
 "metadata": {
  "kernelspec": {
   "display_name": "Python 3",
   "language": "python",
   "name": "python3"
  },
  "language_info": {
   "codemirror_mode": {
    "name": "ipython",
    "version": 3
   },
   "file_extension": ".py",
   "mimetype": "text/x-python",
   "name": "python",
   "nbconvert_exporter": "python",
   "pygments_lexer": "ipython3",
   "version": "3.8.3"
  }
 },
 "nbformat": 4,
 "nbformat_minor": 4
}
