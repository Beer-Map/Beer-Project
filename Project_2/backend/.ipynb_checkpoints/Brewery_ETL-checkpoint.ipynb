{
 "cells": [
  {
   "cell_type": "code",
   "execution_count": 26,
   "metadata": {},
   "outputs": [],
   "source": [
    "import pandas as pd\n",
    "from sqlalchemy import create_engine\n",
    "from key import key"
   ]
  },
  {
   "cell_type": "code",
   "execution_count": 4,
   "metadata": {},
   "outputs": [
    {
     "data": {
      "text/plain": [
       "Index(['address', 'categories', 'city', 'country', 'key', 'lat', 'long',\n",
       "       'name', 'phones', 'postalCode', 'province', 'websites'],\n",
       "      dtype='object')"
      ]
     },
     "execution_count": 4,
     "metadata": {},
     "output_type": "execute_result"
    }
   ],
   "source": [
    "brewery_file = \"./Resources/brewery.csv\"\n",
    "brewery_df = pd.read_csv(brewery_file)\n",
    "brewery_df.columns"
   ]
  },
  {
   "cell_type": "code",
   "execution_count": 22,
   "metadata": {},
   "outputs": [
    {
     "data": {
      "text/html": [
       "<div>\n",
       "<style scoped>\n",
       "    .dataframe tbody tr th:only-of-type {\n",
       "        vertical-align: middle;\n",
       "    }\n",
       "\n",
       "    .dataframe tbody tr th {\n",
       "        vertical-align: top;\n",
       "    }\n",
       "\n",
       "    .dataframe thead th {\n",
       "        text-align: right;\n",
       "    }\n",
       "</style>\n",
       "<table border=\"1\" class=\"dataframe\">\n",
       "  <thead>\n",
       "    <tr style=\"text-align: right;\">\n",
       "      <th></th>\n",
       "      <th>address</th>\n",
       "      <th>city</th>\n",
       "      <th>lat</th>\n",
       "      <th>long</th>\n",
       "      <th>name</th>\n",
       "      <th>province</th>\n",
       "      <th>websites</th>\n",
       "      <th>phones</th>\n",
       "    </tr>\n",
       "  </thead>\n",
       "  <tbody>\n",
       "    <tr>\n",
       "      <th>2</th>\n",
       "      <td>830 W Bannock St</td>\n",
       "      <td>Boise</td>\n",
       "      <td>43.617711</td>\n",
       "      <td>-116.202883</td>\n",
       "      <td>10 Barrel Brewing, 10 Barrel Brewing Co.</td>\n",
       "      <td>ID</td>\n",
       "      <td>10barrel.com</td>\n",
       "      <td>(208) 344-5870, 2083445870, 2.08344587E9</td>\n",
       "    </tr>\n",
       "    <tr>\n",
       "      <th>3</th>\n",
       "      <td>1022 Texan Trl</td>\n",
       "      <td>Grapevine</td>\n",
       "      <td>32.938385</td>\n",
       "      <td>-97.064340</td>\n",
       "      <td>10 Gallon Tours</td>\n",
       "      <td>TX</td>\n",
       "      <td>http://www.10gallontours.com/</td>\n",
       "      <td>18174031832, 817 403-1832</td>\n",
       "    </tr>\n",
       "    <tr>\n",
       "      <th>10</th>\n",
       "      <td>3090 Shirley Dr</td>\n",
       "      <td>Jackson</td>\n",
       "      <td>42.286010</td>\n",
       "      <td>-84.431260</td>\n",
       "      <td>127 Brewing</td>\n",
       "      <td>MI</td>\n",
       "      <td>https://www.facebook.com/127brewing</td>\n",
       "      <td>5172581346</td>\n",
       "    </tr>\n",
       "    <tr>\n",
       "      <th>11</th>\n",
       "      <td>41 Lower Newton St</td>\n",
       "      <td>Stalbans</td>\n",
       "      <td>44.810713</td>\n",
       "      <td>-73.083558</td>\n",
       "      <td>14th Star Brewing Co Llc</td>\n",
       "      <td>VT</td>\n",
       "      <td>http://api.citygridmedia.com/content/places/v2...</td>\n",
       "      <td>8023931459</td>\n",
       "    </tr>\n",
       "    <tr>\n",
       "      <th>12</th>\n",
       "      <td>133 N Main St</td>\n",
       "      <td>Saint Albans</td>\n",
       "      <td>44.814920</td>\n",
       "      <td>-73.082240</td>\n",
       "      <td>14th Star Brewing Company</td>\n",
       "      <td>VT</td>\n",
       "      <td>NaN</td>\n",
       "      <td>8025285988</td>\n",
       "    </tr>\n",
       "  </tbody>\n",
       "</table>\n",
       "</div>"
      ],
      "text/plain": [
       "               address          city        lat        long  \\\n",
       "2     830 W Bannock St         Boise  43.617711 -116.202883   \n",
       "3       1022 Texan Trl     Grapevine  32.938385  -97.064340   \n",
       "10     3090 Shirley Dr       Jackson  42.286010  -84.431260   \n",
       "11  41 Lower Newton St      Stalbans  44.810713  -73.083558   \n",
       "12       133 N Main St  Saint Albans  44.814920  -73.082240   \n",
       "\n",
       "                                        name province  \\\n",
       "2   10 Barrel Brewing, 10 Barrel Brewing Co.       ID   \n",
       "3                            10 Gallon Tours       TX   \n",
       "10                               127 Brewing       MI   \n",
       "11                  14th Star Brewing Co Llc       VT   \n",
       "12                 14th Star Brewing Company       VT   \n",
       "\n",
       "                                             websites  \\\n",
       "2                                        10barrel.com   \n",
       "3                       http://www.10gallontours.com/   \n",
       "10                https://www.facebook.com/127brewing   \n",
       "11  http://api.citygridmedia.com/content/places/v2...   \n",
       "12                                                NaN   \n",
       "\n",
       "                                      phones  \n",
       "2   (208) 344-5870, 2083445870, 2.08344587E9  \n",
       "3                  18174031832, 817 403-1832  \n",
       "10                                5172581346  \n",
       "11                                8023931459  \n",
       "12                                8025285988  "
      ]
     },
     "execution_count": 22,
     "metadata": {},
     "output_type": "execute_result"
    }
   ],
   "source": [
    "beer_df=brewery_df[['address','city','lat','long','name','province','websites','phones']].copy()\n",
    "new_beer_df=beer_df[beer_df['lat'].notna()]\n",
    "new_beer_df=beer_df[beer_df['long'].notna()]\n",
    "new_beer_df.head()\n"
   ]
  },
  {
   "cell_type": "code",
   "execution_count": 18,
   "metadata": {},
   "outputs": [],
   "source": [
    "new_beer_df.to_csv('beer_data.csv', index=False)"
   ]
  },
  {
   "cell_type": "code",
   "execution_count": 34,
   "metadata": {},
   "outputs": [],
   "source": [
    "rds_connection_string = (f\"postgres:{key}@localhost:5432/Project_2\")\n",
    "engine = create_engine(f'postgresql://{rds_connection_string}')"
   ]
  },
  {
   "cell_type": "code",
   "execution_count": 35,
   "metadata": {},
   "outputs": [
    {
     "data": {
      "text/plain": [
       "['brewery']"
      ]
     },
     "execution_count": 35,
     "metadata": {},
     "output_type": "execute_result"
    }
   ],
   "source": [
    "engine.table_names()"
   ]
  },
  {
   "cell_type": "code",
   "execution_count": 36,
   "metadata": {},
   "outputs": [],
   "source": [
    "new_beer_df.to_sql(name='brewery', con=engine, if_exists='append', index=False)"
   ]
  },
  {
   "cell_type": "code",
   "execution_count": 37,
   "metadata": {},
   "outputs": [
    {
     "data": {
      "text/html": [
       "<div>\n",
       "<style scoped>\n",
       "    .dataframe tbody tr th:only-of-type {\n",
       "        vertical-align: middle;\n",
       "    }\n",
       "\n",
       "    .dataframe tbody tr th {\n",
       "        vertical-align: top;\n",
       "    }\n",
       "\n",
       "    .dataframe thead th {\n",
       "        text-align: right;\n",
       "    }\n",
       "</style>\n",
       "<table border=\"1\" class=\"dataframe\">\n",
       "  <thead>\n",
       "    <tr style=\"text-align: right;\">\n",
       "      <th></th>\n",
       "      <th>address</th>\n",
       "      <th>city</th>\n",
       "      <th>lat</th>\n",
       "      <th>long</th>\n",
       "      <th>name</th>\n",
       "      <th>province</th>\n",
       "      <th>websites</th>\n",
       "      <th>phones</th>\n",
       "    </tr>\n",
       "  </thead>\n",
       "  <tbody>\n",
       "    <tr>\n",
       "      <th>0</th>\n",
       "      <td>830 W Bannock St</td>\n",
       "      <td>Boise</td>\n",
       "      <td>43.617711</td>\n",
       "      <td>-116.202883</td>\n",
       "      <td>10 Barrel Brewing, 10 Barrel Brewing Co.</td>\n",
       "      <td>ID</td>\n",
       "      <td>10barrel.com</td>\n",
       "      <td>(208) 344-5870, 2083445870, 2.08344587E9</td>\n",
       "    </tr>\n",
       "    <tr>\n",
       "      <th>1</th>\n",
       "      <td>1022 Texan Trl</td>\n",
       "      <td>Grapevine</td>\n",
       "      <td>32.938385</td>\n",
       "      <td>-97.064340</td>\n",
       "      <td>10 Gallon Tours</td>\n",
       "      <td>TX</td>\n",
       "      <td>http://www.10gallontours.com/</td>\n",
       "      <td>18174031832, 817 403-1832</td>\n",
       "    </tr>\n",
       "    <tr>\n",
       "      <th>2</th>\n",
       "      <td>3090 Shirley Dr</td>\n",
       "      <td>Jackson</td>\n",
       "      <td>42.286010</td>\n",
       "      <td>-84.431260</td>\n",
       "      <td>127 Brewing</td>\n",
       "      <td>MI</td>\n",
       "      <td>https://www.facebook.com/127brewing</td>\n",
       "      <td>5172581346</td>\n",
       "    </tr>\n",
       "    <tr>\n",
       "      <th>3</th>\n",
       "      <td>41 Lower Newton St</td>\n",
       "      <td>Stalbans</td>\n",
       "      <td>44.810713</td>\n",
       "      <td>-73.083558</td>\n",
       "      <td>14th Star Brewing Co Llc</td>\n",
       "      <td>VT</td>\n",
       "      <td>http://api.citygridmedia.com/content/places/v2...</td>\n",
       "      <td>8023931459</td>\n",
       "    </tr>\n",
       "    <tr>\n",
       "      <th>4</th>\n",
       "      <td>133 N Main St</td>\n",
       "      <td>Saint Albans</td>\n",
       "      <td>44.814920</td>\n",
       "      <td>-73.082240</td>\n",
       "      <td>14th Star Brewing Company</td>\n",
       "      <td>VT</td>\n",
       "      <td>None</td>\n",
       "      <td>8025285988</td>\n",
       "    </tr>\n",
       "  </tbody>\n",
       "</table>\n",
       "</div>"
      ],
      "text/plain": [
       "              address          city        lat        long  \\\n",
       "0    830 W Bannock St         Boise  43.617711 -116.202883   \n",
       "1      1022 Texan Trl     Grapevine  32.938385  -97.064340   \n",
       "2     3090 Shirley Dr       Jackson  42.286010  -84.431260   \n",
       "3  41 Lower Newton St      Stalbans  44.810713  -73.083558   \n",
       "4       133 N Main St  Saint Albans  44.814920  -73.082240   \n",
       "\n",
       "                                       name province  \\\n",
       "0  10 Barrel Brewing, 10 Barrel Brewing Co.       ID   \n",
       "1                           10 Gallon Tours       TX   \n",
       "2                               127 Brewing       MI   \n",
       "3                  14th Star Brewing Co Llc       VT   \n",
       "4                 14th Star Brewing Company       VT   \n",
       "\n",
       "                                            websites  \\\n",
       "0                                       10barrel.com   \n",
       "1                      http://www.10gallontours.com/   \n",
       "2                https://www.facebook.com/127brewing   \n",
       "3  http://api.citygridmedia.com/content/places/v2...   \n",
       "4                                               None   \n",
       "\n",
       "                                     phones  \n",
       "0  (208) 344-5870, 2083445870, 2.08344587E9  \n",
       "1                 18174031832, 817 403-1832  \n",
       "2                                5172581346  \n",
       "3                                8023931459  \n",
       "4                                8025285988  "
      ]
     },
     "execution_count": 37,
     "metadata": {},
     "output_type": "execute_result"
    }
   ],
   "source": [
    "pd.read_sql_query('select * from brewery', con=engine).head()"
   ]
  },
  {
   "cell_type": "code",
   "execution_count": null,
   "metadata": {},
   "outputs": [],
   "source": [
    "CREATE TABLE brewery(\n",
    "address VARCHAR , \n",
    "city VARCHAR, \n",
    "lat DECIMAL,\n",
    "long DECIMAL,\n",
    "name VARCHAR,\n",
    "province VARCHAR,\n",
    "websites VARCHAR,\n",
    "phones VARCHAR);\n",
    "\n",
    "\n",
    "SELECT * FROM brewery;"
   ]
  },
  {
   "cell_type": "code",
   "execution_count": 1,
   "metadata": {},
   "outputs": [],
   "source": [
    "import sqlalchemy\n",
    "from sqlalchemy.ext.automap import automap_base\n",
    "from sqlalchemy.orm import Session\n",
    "from sqlalchemy import create_engine, inspect"
   ]
  },
  {
   "cell_type": "code",
   "execution_count": null,
   "metadata": {},
   "outputs": [],
   "source": []
  }
 ],
 "metadata": {
  "kernelspec": {
   "display_name": "Python 3",
   "language": "python",
   "name": "python3"
  },
  "language_info": {
   "codemirror_mode": {
    "name": "ipython",
    "version": 3
   },
   "file_extension": ".py",
   "mimetype": "text/x-python",
   "name": "python",
   "nbconvert_exporter": "python",
   "pygments_lexer": "ipython3",
   "version": "3.8.3"
  }
 },
 "nbformat": 4,
 "nbformat_minor": 4
}
